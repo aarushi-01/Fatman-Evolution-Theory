{
  "nbformat": 4,
  "nbformat_minor": 0,
  "metadata": {
    "colab": {
      "name": "analyzefatman.ipynb",
      "provenance": []
    },
    "kernelspec": {
      "name": "python3",
      "display_name": "Python 3"
    },
    "language_info": {
      "name": "python"
    }
  },
  "cells": [
    {
      "cell_type": "code",
      "execution_count": null,
      "metadata": {
        "id": "aJUxZqKi3Mwk"
      },
      "outputs": [],
      "source": [
        "import networkx as nx\n",
        "import matplotlib.pyplot as plt\n"
      ]
    },
    {
      "cell_type": "code",
      "source": [
        "def plt_density():\n",
        "        x=[]\n",
        "        y=[]\n",
        "        for i in range(1,10):\n",
        "            G=nx.read_gml('/content/evolution_file_' + str(i) + '.gml')\n",
        "            x.append(i)\n",
        "            y.append(nx.density(G))\n",
        "        plt.xlabel('Time')\n",
        "        plt.ylabel('Density')\n",
        "        plt.plot(x,y)\n",
        "        plt.show()"
      ],
      "metadata": {
        "id": "u0FhuvWk4swL"
      },
      "execution_count": null,
      "outputs": []
    },
    {
      "cell_type": "code",
      "source": [
        "def plt_obesity():\n",
        "        x=[]\n",
        "        y=[]\n",
        "        for i in range(1,10):\n",
        "            z=0\n",
        "            G=nx.read_gml('/content/evolution_file_' + str(i) + '.gml')\n",
        "            x.append(i)\n",
        "            for each in G.nodes():\n",
        "                if G.nodes[each]['name']==40:\n",
        "                    z=z+1\n",
        "            y.append(z)\n",
        "        plt.xlabel('Time')\n",
        "        plt.ylabel('Fatman')\n",
        "        plt.plot(x,y)\n",
        "        plt.show()"
      ],
      "metadata": {
        "id": "_1vkMzDnUvP3"
      },
      "execution_count": null,
      "outputs": []
    },
    {
      "cell_type": "code",
      "source": [
        "plt_obesity()"
      ],
      "metadata": {
        "colab": {
          "base_uri": "https://localhost:8080/",
          "height": 279
        },
        "id": "lMp2hSW686zM",
        "outputId": "f53e7a55-2bd5-40ab-e31b-4b3304787545"
      },
      "execution_count": null,
      "outputs": [
        {
          "output_type": "display_data",
          "data": {
            "image/png": "[encoded data removed]",
            "text/plain": [
              "<Figure size 432x288 with 1 Axes>"
            ]
          },
          "metadata": {
            "needs_background": "light"
          }
        }
      ]
    },
    {
      "cell_type": "code",
      "source": [
        ""
      ],
      "metadata": {
        "id": "57RHQO9pWHYK"
      },
      "execution_count": null,
      "outputs": []
    }
  ]
}